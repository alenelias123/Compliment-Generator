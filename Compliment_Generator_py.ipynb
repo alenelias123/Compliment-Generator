{
  "nbformat": 4,
  "nbformat_minor": 0,
  "metadata": {
    "colab": {
      "provenance": [],
      "authorship_tag": "ABX9TyOxFbbK+UjwU3lkmeiYgSII",
      "include_colab_link": true
    },
    "kernelspec": {
      "name": "python3",
      "display_name": "Python 3"
    },
    "language_info": {
      "name": "python"
    }
  },
  "cells": [
    {
      "cell_type": "markdown",
      "metadata": {
        "id": "view-in-github",
        "colab_type": "text"
      },
      "source": [
        "<a href=\"https://colab.research.google.com/github/alenelias123/Fake-/blob/main/Compliment_Generator_py.ipynb\" target=\"_parent\"><img src=\"https://colab.research.google.com/assets/colab-badge.svg\" alt=\"Open In Colab\"/></a>"
      ]
    },
    {
      "cell_type": "code",
      "execution_count": null,
      "metadata": {
        "id": "j6RMewS_CDTj"
      },
      "outputs": [],
      "source": [
        "# library installations lol\n",
        "!pip install gradio transformers torch opencv-python scikit-learn\n",
        "\n",
        "\n",
        "import gradio as gr\n",
        "from transformers import pipeline\n",
        "import cv2\n",
        "import numpy as np\n",
        "from sklearn.cluster import KMeans\n",
        "from PIL import Image\n",
        "\n",
        "# Function to process the image and generate a compliment\n",
        "def generate_compliment(image):\n",
        "    # Convert the image to a format OpenCV can use\n",
        "    img = cv2.cvtColor(np.array(image), cv2.COLOR_RGB2BGR)\n",
        "\n",
        "    # Smile detection\n",
        "    gray = cv2.cvtColor(img, cv2.COLOR_BGR2GRAY)\n",
        "    faces = face_cascade.detectMultiScale(gray, 1.2, 5)\n",
        "    is_smiling = False\n",
        "\n",
        "    for (x, y, w, h) in faces:\n",
        "        roi_gray = gray[y:y+h, x:x+w]\n",
        "        smiles = smile_cascade.detectMultiScale(roi_gray, scaleFactor=1.8, minNeighbors=20)\n",
        "        if len(smiles) > 0:\n",
        "            is_smiling = True\n",
        "            break"
      ]
    }
  ]
}